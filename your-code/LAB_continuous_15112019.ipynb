{
 "cells": [
  {
   "cell_type": "markdown",
   "metadata": {},
   "source": [
    "# Before your start:\n",
    "\n",
    "    Read the README.md file\n",
    "    Comment as much as you can and use the resources (README.md file)\n",
    "    Happy learning!"
   ]
  },
  {
   "cell_type": "markdown",
   "metadata": {},
   "source": [
    "In this exercise, we  will generate random numbers from the continuous disributions we learned in the lesson. There are two ways to generate random numbers:\n",
    "\n",
    "1. Using the numpy library \n",
    "1. using the Scipy library \n",
    "\n",
    "Use either or both of the lbraries in this exercise."
   ]
  },
  {
   "cell_type": "markdown",
   "metadata": {},
   "source": [
    "## Uniform Distribution\n",
    "\n",
    "To generate uniform random numbers between any two given values using scipy, we can either use the following code or the code that we have\n",
    "discussed in class:"
   ]
  },
  {
   "cell_type": "code",
   "execution_count": 41,
   "metadata": {},
   "outputs": [],
   "source": [
    "# importing libraries\n",
    "import numpy as np\n",
    "import math\n",
    "import pandas as pd\n",
    "import matplotlib.pyplot as plt\n",
    "import random\n",
    "\n",
    "from scipy.stats import uniform\n",
    "from scipy.stats import norm\n",
    "from scipy.stats import expon"
   ]
  },
  {
   "cell_type": "code",
   "execution_count": 2,
   "metadata": {},
   "outputs": [
    {
     "name": "stdout",
     "output_type": "stream",
     "text": [
      "[2.25945036 2.54824921 2.23720708 2.11593051 2.18611938 2.3037127\n",
      " 2.97613075 2.37366225 2.74493443 2.67640634]\n"
     ]
    }
   ],
   "source": [
    "from scipy.stats import uniform\n",
    "x = uniform.rvs(size=10)\n",
    "a = 2\n",
    "b = 3\n",
    "randoms  = a + (b-a)*x\n",
    "print(randoms)"
   ]
  },
  {
   "cell_type": "markdown",
   "metadata": {},
   "source": [
    "**Your task:**\n",
    "\n",
    "1. Based on the code above, write a function that generates uniformly distributed random numbers. There are several requirements for your function:\n",
    "    * It should accept 3 parameters: \n",
    "        * `bottom` - the lower boundary of the generated numbers\n",
    "        * `ceiling` - the upper boundary of the generated numbers\n",
    "        * `count` - how many numbers to generate\n",
    "    * It should return an array of uniformly distributed random numbers\n",
    "\n",
    "1. Call your function with 2 sets of params below:\n",
    "    * bottom=10, ceiling=15, count=100\n",
    "    * bottom=10, ceiling=60, count=1,000\n",
    "\n",
    "1. Plot the uniform distributions generated above using histograms, where x axis is the value and y axis is the count. Let the histogram's number of bins be 10.\n",
    "\n",
    "Your output should look like below:\n",
    "\n",
    "![uniform distribution](ud.png)"
   ]
  },
  {
   "cell_type": "code",
   "execution_count": 11,
   "metadata": {},
   "outputs": [],
   "source": [
    "# your code here\n",
    "\n",
    "def random_numb(b,c,cnt):\n",
    "    x = uniform.rvs(size=cnt)\n",
    "    randoms  = b + (c-b)*x\n",
    "    return randoms"
   ]
  },
  {
   "cell_type": "code",
   "execution_count": 12,
   "metadata": {},
   "outputs": [
    {
     "name": "stdout",
     "output_type": "stream",
     "text": [
      "[10.21517502 12.60328291 12.85837533 14.05207698 14.94813753 12.13625471\n",
      " 12.41095486 14.00951059 10.76260733 11.33782888 13.57930731 11.78428146\n",
      " 12.72618831 13.08495099 13.33053913 12.63043407 12.87769874 12.58920833\n",
      " 13.33156478 12.11220043 13.29900712 12.95570969 10.79136905 12.0062928\n",
      " 12.53767228 10.61464434 12.05250348 10.02693061 10.37151704 13.52294103\n",
      " 11.98387874 10.88720432 14.67639507 13.503388   13.28361224 13.86956885\n",
      " 14.62063193 14.30972889 11.34203948 14.11919782 11.03363337 12.0956067\n",
      " 13.0881265  14.33456693 14.57923364 11.89944162 14.80288952 10.42367408\n",
      " 14.62548821 14.21933058 12.71860061 12.00973002 14.46622286 14.9414755\n",
      " 14.63146718 13.76515866 12.779192   10.83731318 12.68119342 12.89091926\n",
      " 11.52780802 12.44151097 13.00156827 10.64322958 12.47685627 10.29519194\n",
      " 10.69223515 13.76948617 12.53321118 11.86539636 12.78371757 14.99289424\n",
      " 14.51666441 10.2881365  11.71858256 10.85501814 14.64373854 12.05872912\n",
      " 14.23366996 10.28344467 11.29217035 14.04267702 12.8096028  14.38118941\n",
      " 14.06039124 13.93789557 13.72568959 13.39780517 13.39980727 14.12045849\n",
      " 14.34284092 10.89245229 14.34992101 13.70492842 12.62514738 14.44234727\n",
      " 11.46290627 12.61956248 14.04538175 13.93320973]\n"
     ]
    }
   ],
   "source": [
    "print(random_numb(10,15,100))"
   ]
  },
  {
   "cell_type": "code",
   "execution_count": 13,
   "metadata": {},
   "outputs": [
    {
     "data": {
      "image/png": "[encoded data removed]",
      "text/plain": [
       "<Figure size 432x288 with 1 Axes>"
      ]
     },
     "metadata": {
      "needs_background": "light"
     },
     "output_type": "display_data"
    }
   ],
   "source": [
    "# Example with 100 numbers\n",
    "plt.hist(random_numb(10,15,100))\n",
    "plt.show()"
   ]
  },
  {
   "cell_type": "code",
   "execution_count": 14,
   "metadata": {
    "scrolled": true
   },
   "outputs": [
    {
     "data": {
      "image/png": "[encoded data removed]",
      "text/plain": [
       "<Figure size 432x288 with 1 Axes>"
      ]
     },
     "metadata": {
      "needs_background": "light"
     },
     "output_type": "display_data"
    }
   ],
   "source": [
    "# Example with 1000 numbers\n",
    "plt.hist(random_numb(10,60,1000))\n",
    "plt.show()"
   ]
  },
  {
   "cell_type": "code",
   "execution_count": 18,
   "metadata": {},
   "outputs": [
    {
     "data": {
      "text/plain": [
       "(array([100.,  96.,  98.,  98., 104.,  90.,  95., 108., 100., 111.]),\n",
       " array([10.17962228, 15.16138311, 20.14314394, 25.12490477, 30.1066656 ,\n",
       "        35.08842642, 40.07018725, 45.05194808, 50.03370891, 55.01546973,\n",
       "        59.99723056]),\n",
       " <a list of 10 Patch objects>)"
      ]
     },
     "execution_count": 18,
     "metadata": {},
     "output_type": "execute_result"
    },
    {
     "data": {
      "image/png": "[encoded data removed]",
      "text/plain": [
       "<Figure size 720x360 with 2 Axes>"
      ]
     },
     "metadata": {
      "needs_background": "light"
     },
     "output_type": "display_data"
    }
   ],
   "source": [
    "# Adding the two histograms together\n",
    "fig, axs = plt.subplots(1, 2, figsize=(10, 5))\n",
    "axs[0].hist(random_numb(10,15,100))\n",
    "axs[1].hist(random_numb(10,60,1000))"
   ]
  },
  {
   "cell_type": "markdown",
   "metadata": {},
   "source": [
    "How are the two distributions different?"
   ]
  },
  {
   "cell_type": "code",
   "execution_count": null,
   "metadata": {},
   "outputs": [],
   "source": [
    "# your answer here:\n",
    "\n",
    "# The histogram with the higher count looks more uniform due to the high amount of numbers.\n",
    "# The higher the count of instances, the more uniform the histogram will be.\n"
   ]
  },
  {
   "cell_type": "markdown",
   "metadata": {},
   "source": [
    "## Normal Distribution\n",
    "\n",
    "1. In the same way in the Uniform Distribution challenge, write a function that generates normally distributed random numbers.\n",
    "1. Generate 1,000 normally distributed numbers with the average of 10 and standard deviation of 1\n",
    "1. Generate 1,000 normally distributed numbers with the average of 10 and standard deviation of 50\n",
    "2. Plot the distributions of the data generated.\n",
    "\n",
    "Expected output:\n",
    "\n",
    "![normal distribution](nd.png)"
   ]
  },
  {
   "cell_type": "code",
   "execution_count": 22,
   "metadata": {},
   "outputs": [],
   "source": [
    "# your code here\n",
    "def random_numb_norm(a,std,cnt):\n",
    "    x = norm.rvs(size=cnt)\n",
    "    randoms  = a + (std-a)*x\n",
    "    return randoms\n"
   ]
  },
  {
   "cell_type": "code",
   "execution_count": 27,
   "metadata": {
    "scrolled": true
   },
   "outputs": [
    {
     "name": "stdout",
     "output_type": "stream",
     "text": [
      "[ 1.53654211e+00  9.53146460e+00  9.44884214e+00  6.31829612e+00\n",
      "  1.85764407e+01 -6.98614616e+00  8.25162798e+00  1.14735082e+01\n",
      "  2.65677476e+01  8.15999218e+00  1.72239104e+00  4.48996415e+00\n",
      "  2.43025583e+00  1.40290595e+01  9.46314464e+00  1.67989196e+01\n",
      "  1.35301512e+01  3.72499545e+00  3.02645694e+01  5.58175170e+00\n",
      "  6.68969479e+00  2.06303571e+01  9.53924588e+00  1.11562421e+01\n",
      "  9.71482193e+00  3.24421668e+00  1.46865907e+01  8.52871081e+00\n",
      "  1.28662440e+01  1.02830299e+01  7.49059740e+00  3.42309043e+00\n",
      "  2.10904258e+01  7.49170393e+00  1.60767313e+01  1.48603212e+01\n",
      "  1.59658665e+01  4.09059730e+00  1.10989523e+01 -6.62077510e-01\n",
      "  1.13835062e+01  1.69019273e+01  1.58159016e+01  7.32131357e-01\n",
      "  3.21135051e+00  2.11345690e+01  6.78323927e-01 -6.04514774e+00\n",
      " -1.23637462e-01  5.91649751e+00  2.25797361e+01 -1.78019375e+00\n",
      "  2.19740323e+01  1.05103920e+01  7.65312117e+00  1.26320032e+01\n",
      "  2.60981419e+01  5.46433327e+00 -8.26517663e+00  1.28954147e+01\n",
      "  1.72756298e+01  1.96845070e+01  2.29106617e+01  6.31846788e+00\n",
      "  1.12079311e+01  2.77022534e+00  2.77104022e+01  3.04605817e+00\n",
      "  2.83179551e+01  2.13805368e-01  1.94375958e+01  8.84121973e+00\n",
      "  1.45254458e+01  1.70098931e+01  1.26286688e+01  5.18660556e+00\n",
      "  9.83848004e+00 -8.37094752e+00  2.11986248e+01  2.90369242e+01\n",
      "  1.46938985e+01  1.51886754e+01  5.28409747e+00  2.39206335e+00\n",
      "  1.66276197e+01  6.42693547e+00  6.12881087e+00  7.60473012e+00\n",
      "  1.51480795e+01  2.09306233e+01  9.00112073e+00  1.32849373e+01\n",
      "  9.66575830e+00  4.88459035e+00 -1.14824057e+01  1.01912690e+01\n",
      "  6.92639722e+00  4.33819951e+00  6.31446473e+00  1.59339989e+01\n",
      "  5.13102315e+00  9.77163216e+00  8.44233971e+00  1.82042637e+00\n",
      "  4.45473482e-01  3.10722052e+01  1.64144551e+01  1.38839659e+01\n",
      "  2.16077407e+00  2.11339663e+01  1.03320144e+01  1.84063593e+01\n",
      "  1.26307440e+00  9.87435779e+00  7.79002292e+00  2.14424171e+01\n",
      "  1.17651261e+01 -5.87955604e+00  1.54295856e+01  9.58577240e+00\n",
      "  5.99361669e+00 -1.28849483e+00  2.82030442e+01  7.07500919e+00\n",
      "  1.07244979e+01  8.80112234e+00  9.19664662e+00  3.53602710e+00\n",
      " -2.64270518e+00  8.06904383e+00  1.98881880e+01  1.56750194e+01\n",
      " -5.37787837e+00  8.48461851e+00  1.77136652e+01  1.34135833e+01\n",
      "  6.75798804e+00  8.12948877e+00  9.72300698e+00 -9.53810790e-01\n",
      "  1.18512699e+01  1.45023190e+01  1.44427718e+01  1.04700680e+01\n",
      "  1.91489432e+01  9.74730998e+00 -1.62653889e-01  7.37048575e+00\n",
      "  1.71017904e+01  1.11406048e+01  1.30976684e+01  5.42078698e+00\n",
      "  1.55489703e+01  1.44559421e+01  8.55200707e+00 -3.32494771e+00\n",
      " -3.95012609e+00 -4.15273191e+00  2.23258472e+01  2.20393264e+01\n",
      "  2.02461525e+01  2.25320773e+01  2.13961986e+01  1.15718760e+01\n",
      "  2.24298904e+01 -1.49135357e+01  1.59679031e+01  1.55401157e+01\n",
      "  1.97424011e+01  6.24091123e+00  1.02040266e+01  1.96247847e+01\n",
      "  1.28049755e+01  1.96694261e+01  5.98910035e+00  1.15079589e+01\n",
      "  3.79194195e+00  1.36762565e+01  1.28047248e+01  1.62487252e+01\n",
      "  2.11614671e+01  1.23332690e+01  2.00461214e+01 -5.35467454e+00\n",
      "  5.74683608e+00  1.77496027e+01  1.50911631e+01  1.40612672e+01\n",
      "  7.99416699e+00  1.98194344e+00  1.38530159e+01  1.18695493e+01\n",
      " -8.95909589e-01  2.72941864e+00  2.31955738e+01  1.82676327e+01\n",
      "  1.47460303e+01  9.37577354e+00  1.69212580e+01  4.82860807e+00\n",
      "  5.69562669e+00  2.43625162e+01  1.83703654e+01  1.52336096e+01\n",
      "  2.68773583e+01  4.36973779e+00  1.81672136e+01  3.33603331e+00\n",
      "  2.04799221e+01  1.64939210e+01  1.81459867e+01 -1.42917574e+00\n",
      "  2.79020061e+00  2.23647816e+01  2.18582541e+01  7.66640536e+00\n",
      "  1.46313168e+01  9.00720406e+00  3.91110643e+00  9.32507233e+00\n",
      "  1.41353172e+01  1.42924059e+01  1.95315762e+00  1.70128268e+01\n",
      "  2.36640178e+01  2.05003667e+01  4.30646762e+00  7.23467242e+00\n",
      "  2.41037993e+01  5.99695985e+00  1.63141743e+01  1.51447752e+01\n",
      " -2.40682805e+00  1.33141636e+00  4.59428646e+00 -1.37912272e+00\n",
      "  3.18320123e+00  3.68797697e+00  4.97548469e+00  1.81434768e+01\n",
      "  1.75718804e+01  1.56615688e+01  4.33229584e+00  1.15186027e+01\n",
      "  2.90107483e+01 -9.67816454e-02  2.14061441e+01  2.09299840e+01\n",
      "  2.66937693e+01  5.18057478e+00  2.02012346e+01 -8.53181588e+00\n",
      "  9.74245399e-02  2.52475937e+01  1.69233824e+01  2.30992735e+01\n",
      "  7.18440801e+00  1.10448919e+01  5.71663278e+00  1.92113179e+01\n",
      "  2.80229013e+01  2.41078589e+01 -3.81125171e+00 -2.76250675e+00\n",
      "  1.31536938e+01  9.63979837e+00 -5.26658524e+00  3.56304857e+01\n",
      "  7.71564592e+00  9.92562044e-01  2.35872647e-01  7.78417025e+00\n",
      "  2.60295034e+01  1.47792223e+01 -5.40454663e+00 -1.45289905e+00\n",
      "  1.14909504e+01  2.82243499e+00  6.84400717e+00  2.61650861e-01\n",
      "  8.10572383e+00  3.10590285e+00  1.76833658e+01  1.67492150e+01\n",
      "  3.60238165e+00  1.10191469e+01  1.04927363e+01  2.56819480e+01\n",
      "  2.88913609e+01  1.00878057e+01  4.34933327e+00  1.93437933e+01\n",
      "  2.99886726e+00  7.65161315e+00  1.21077383e+01 -1.44096114e+01\n",
      "  6.51244390e+00 -3.91462925e+00  4.04125245e+01  1.13695298e+01\n",
      "  1.20095886e+01 -2.86158049e+00  1.89441805e+01  4.75692225e+00\n",
      " -1.17207626e+01  1.29552210e+01  5.51695929e+00  1.18326699e+01\n",
      "  6.60920255e+00  6.67753808e+00 -7.31563492e+00  1.76004792e+01\n",
      "  1.04031110e+01  2.93556784e+00 -7.65539755e-01  4.69591401e+00\n",
      "  1.87816228e+01  1.53704887e+01  1.53614257e+01  1.31261653e+01\n",
      "  6.22429643e+00  9.04255916e+00  1.58362844e+01  6.21315411e+00\n",
      "  3.66734075e+00 -3.10380289e+00 -2.97488693e+00  1.33077767e+01\n",
      "  8.73045397e-01 -5.12317578e+00  9.89309260e+00 -6.80667589e+00\n",
      "  8.13359382e+00  1.07309817e+01  1.40639871e+01  1.08370693e+01\n",
      "  1.97799327e+01  1.50611019e+01  5.39012026e-01  3.06995096e+01\n",
      "  3.04563567e+01 -2.38812068e-01  1.14373432e+01  1.11249940e+01\n",
      "  6.72153295e+00  1.39065855e+01  8.52402976e+00  8.18200918e+00\n",
      "  1.65198134e+01  1.33986149e+01 -4.11143458e+00  5.48056271e+00\n",
      "  6.99467919e+00  1.86231776e+01  1.31818797e+01  2.09461737e+01\n",
      "  1.99101071e-01  2.15544713e+01  1.79716560e+01  1.53646963e+01\n",
      "  1.60222289e+01  1.32759613e+01  1.38355991e+01  8.64814603e+00\n",
      "  1.90078986e+01  8.44946034e+00  1.77937334e+01  2.68498459e+00\n",
      "  1.78211365e+01  1.27005476e-01  2.79031773e+00  1.43710042e+01\n",
      "  2.50401362e+01  9.10335023e+00  1.46541055e+01  1.21422589e+01\n",
      "  5.84384096e+00  1.89838992e+01  2.59214811e+00  3.22863566e+01\n",
      "  3.11463178e+01 -1.10663835e+00  3.01815820e+01  8.68337516e+00\n",
      "  1.08160099e+01  3.08279709e+01 -2.61896726e+00  1.19171852e+01\n",
      "  7.03494936e+00 -1.23413629e+01  2.16017461e+01  1.60574798e+01\n",
      "  7.81342539e+00  1.86296754e+01  1.01775642e+01  1.16972069e+01\n",
      "  1.19861745e+01  4.66401674e+00  1.99354988e+01  1.63663532e+01\n",
      "  3.55245760e+00 -3.80425574e+00  3.92592874e+00  8.73107085e+00\n",
      "  1.54827530e+01 -3.76736462e+00  1.06025340e+01 -1.55694408e+00\n",
      "  4.53888948e+00  1.26742464e+00  6.04050971e+00  1.02586427e+01\n",
      "  1.71175429e+01  1.06331354e+01  6.70548599e+00  7.21669924e+00\n",
      "  8.83769913e+00  2.59844292e+00  5.05994529e+00 -2.41256920e-01\n",
      " -2.94715775e+00  8.03722897e+00  2.20512635e-01  3.71834118e+00\n",
      "  4.85979372e-01  2.25908530e+01  2.35096554e+01  4.11210883e+00\n",
      "  1.63794515e+01  5.88414275e+00  1.64699898e+01  1.45444214e+01\n",
      "  5.55518380e-01  2.19719089e+01  1.17158479e+01  1.29477131e+01\n",
      "  2.24389356e+01 -3.36265880e+00  2.19735395e+01  2.24563629e+01\n",
      "  1.72128628e+01  1.98894274e+01  7.05619279e+00  1.15264022e+01\n",
      "  9.71554537e-01  1.86025845e+01  1.97122506e+01  1.10894616e+01\n",
      "  7.21937069e+00  1.81391265e+01  1.07939002e+01  1.18136873e+01\n",
      "  1.89597720e+01  1.50954929e+01  2.76769944e+00  1.60330687e+01\n",
      "  2.10906045e+01  2.80676175e+00  2.19396775e+01  1.04633447e+01\n",
      "  2.47962568e+01  6.06786482e+00  2.43215963e+01  1.58097668e+00\n",
      "  1.98519147e+01  1.94203384e+01  1.55386373e+00  1.50234880e+01\n",
      "  2.50975340e+01  1.02453842e+01 -4.13468813e+00  2.57384586e+01\n",
      " -5.01415587e+00  1.21598383e+01 -3.72880696e+00 -8.53893672e+00\n",
      " -7.41634697e+00 -4.50675720e+00  1.28664014e+01  1.10692862e+01\n",
      "  1.67925312e+01 -2.13451269e+00  8.45393374e-01  6.75611448e+00\n",
      "  2.44049964e+01  2.19726468e+01  6.16701365e+00 -1.42151717e+00\n",
      "  1.11531862e+01  1.10953347e+01  1.78395418e+01  1.22696023e+01\n",
      "  1.84385551e+01 -8.42063563e+00  2.64723723e+01  1.92310843e+01\n",
      "  1.06222085e+01  2.24036574e+01  9.30444573e+00  1.31078431e+00\n",
      "  2.76282499e+00  8.02886037e+00  9.05435115e+00  1.83508609e+01\n",
      "  8.63202535e+00  1.88639786e+00  2.46665156e+01  1.01592694e+01\n",
      "  3.40318982e+00  7.56577686e+00  9.05646718e+00  1.27427886e+01\n",
      "  1.10476060e+01  9.82518276e+00  1.27609999e+01  1.26872687e+01\n",
      "  1.90671828e+01  1.23634153e+01  3.32972831e+01  7.41922014e+00\n",
      "  6.47721100e+00  1.42199613e+01  1.63977443e+01  5.51683688e+00\n",
      "  2.01457431e+01  4.60475279e+00  4.52090386e+00  3.96273685e+00\n",
      "  1.56698298e+01  1.70072325e+01  9.83066396e-01  1.02440837e+01\n",
      " -2.76271090e+00  5.93044731e+00  2.25466052e+01  1.20037370e+01\n",
      "  1.80631022e+01  1.93035736e+01  2.84810276e+01  7.13256981e+00\n",
      " -7.47205844e+00  1.34941294e+01  1.91219616e+01  1.41828862e+01\n",
      "  1.67807187e+01  1.30064860e+01 -3.12661836e+00  1.82874729e+01\n",
      "  7.04536010e+00  1.08188481e+01  2.10390595e+01  8.88259221e+00\n",
      "  1.56197652e+01  9.99389325e+00  2.46496994e+01  1.89900436e+01\n",
      "  7.39078242e+00  2.24388943e+01 -1.55392185e-01  1.51424206e+01\n",
      "  1.45328330e+01  9.91673060e-01  1.52709230e+00 -8.35735053e-01\n",
      " -4.54978108e+00  2.05921265e+01  2.98953211e+00  1.42607515e+01\n",
      "  8.47627821e+00  7.06219765e+00  3.87122345e+00  1.00046732e+01\n",
      "  1.34864136e+01  1.52610097e+01 -1.48324877e+01  2.32600784e+01\n",
      "  1.14358630e+01  5.90477336e+00  1.02849819e+01  4.71637718e+00\n",
      " -7.62386439e+00  2.40238469e+01  9.81888324e+00  1.39744765e+01\n",
      "  9.85865927e-02  2.23089163e+00  5.19414879e+00  8.23516636e+00\n",
      "  7.83510776e+00  1.73753350e+01  7.49639474e+00  5.85727387e+00\n",
      " -6.37698901e+00  1.25863335e+01 -2.84025899e+00  1.15880861e+01\n",
      " -9.89927376e-01  1.40620644e+01  2.34755231e+00  2.52665158e+01\n",
      "  1.37423703e+01  3.60384840e+00  8.92951252e+00  2.39718297e+01\n",
      "  6.29571673e+00  2.35653582e+01  1.11744336e+01  1.06941921e+00\n",
      "  1.02765328e+01 -4.72831766e+00  1.43935359e+01  1.33503817e+01\n",
      "  2.52767754e+01  5.34201809e+00  8.29722902e+00  5.91020413e-01\n",
      "  1.14931710e+01  2.31325777e+00  8.71594642e+00  4.49091007e+00\n",
      "  1.20600118e+01  1.37187950e+01  1.93525064e+01  1.39344240e+01\n",
      "  3.21263024e+01  6.40134473e+00  1.26587885e+01  1.31519468e+01\n",
      "  2.97187881e+01  2.04368071e+00  7.99495882e+00  1.57321299e+01\n",
      " -8.73807961e+00 -6.85647482e-01  2.13343935e+00  9.73012660e+00\n",
      "  9.26354180e+00  3.18104938e+00  6.97966927e+00  3.41153129e+00\n",
      "  2.15844715e+01  3.22063939e+00  7.66250090e+00 -2.79917380e-01\n",
      "  6.23262371e+00  8.49437028e+00 -7.78878063e+00  4.47398660e+00\n",
      "  3.48508203e+01  4.44051281e+00  1.49126027e+01  1.15952999e+01\n",
      "  9.44793862e+00  2.33074671e+01  5.16151624e+00  1.02669882e+01\n",
      " -3.79255900e+00  1.66306074e+01  2.65074577e+01  2.32671471e+01\n",
      "  1.66230193e+01  1.72873430e+00  5.41572623e-01 -3.31464992e+00\n",
      "  1.05278890e+01  8.49410632e+00  1.41751502e+01  1.58679944e+01\n",
      " -4.59464496e+00  7.82799083e+00  2.18393837e+00  1.67841360e+01\n",
      " -4.03930015e+00 -1.98282748e+00  1.24546180e+01  2.41682641e+01\n",
      "  3.08702959e+00 -4.27788880e+00  1.37971099e+00  7.08219268e+00\n",
      " -1.72804575e+00  7.21162167e+00  2.05680112e+01  5.60609283e+00\n",
      " -2.33892955e+00 -2.84531819e+00  6.47930441e+00  1.05211072e+01\n",
      "  2.23717590e+01  1.56676654e+01  1.83490427e+01  2.27881224e+01\n",
      "  1.32447048e+01  1.62801504e+01  1.10292662e+01  1.69914896e+01\n",
      "  2.06623107e+01  2.77890296e+01  1.63400661e+01  1.48168661e+01\n",
      "  4.38114094e+00  6.38602720e+00  1.51225367e+01  1.30478464e+01\n",
      "  1.01126216e+01  1.84189474e+00  2.73403526e+01  9.07977886e+00\n",
      "  2.52447669e+00  2.97354269e+01  5.71906182e+00  1.25073925e+01\n",
      " -1.13586495e+00  1.02754855e+01  2.58713409e+00  1.02202584e+01\n",
      "  9.29794918e+00  6.67878143e+00  1.21395498e+01 -2.24668102e+00\n",
      " -1.49169537e+01  1.55660556e+01  1.28767107e+01  1.95746062e+01\n",
      " -5.09405352e-02  4.88440319e+00  2.02470103e+01  1.19595646e+01\n",
      "  7.44371309e+00  3.00817519e+01 -6.28864103e+00  1.47320936e+01\n",
      "  1.57948101e+01  7.18052411e+00  4.17482836e+00  6.22877897e+00\n",
      "  5.74221904e+00  6.19735190e+00 -2.26202502e+00  1.75147176e+00\n",
      "  1.70914488e+01  1.35609097e+01  8.91901863e+00 -3.92823175e+00\n",
      "  9.28423425e+00  2.02648033e+00  8.75133365e+00  1.83281430e+01\n",
      "  1.05118372e+01  1.23679931e+01  1.34429418e+01  1.63401392e+01\n",
      "  1.58694415e+01  1.92085234e+01  3.81965925e+00  1.80593571e+01\n",
      "  1.84443628e+01  6.85578824e+00  2.00804280e+01  1.06283149e+01\n",
      " -6.42191909e+00 -3.66518623e+00  1.47326343e+01  2.84901222e+01\n",
      "  1.87584225e+01  5.31383794e+00  1.82105500e+01  1.82567756e+01\n",
      "  4.41654308e+00  6.26356203e+00  1.66643441e+01 -5.41510462e+00\n",
      "  2.19509862e+01 -4.80566897e+00 -1.26856560e+01  7.97056568e+00\n",
      "  1.00307353e+01  1.06720156e+01  4.93790805e+00  2.17300723e+01\n",
      " -2.93476477e+00  2.65666793e-01  1.47650256e+01  3.24570054e+01\n",
      "  8.49330152e-02  1.05050622e+01  1.77895991e+01  2.57516320e+00\n",
      "  2.19667817e+00  1.19135378e+01  1.82013163e+01  5.46893833e+00\n",
      "  9.33271616e-01  4.61997942e+00  1.21080841e+01  1.64709520e+01\n",
      "  6.60895734e-01  2.05082849e+01  2.16018296e+00  1.25637067e+01\n",
      "  1.22744082e+01  1.28083444e+01  2.15062684e+01 -3.10529718e-01\n",
      "  1.18645783e+01  1.50845844e+01  1.77297562e+01  2.22298323e+01\n",
      "  1.33564506e+01  1.98241253e+01  1.02000611e+01  1.80092883e+01\n",
      "  1.81762991e+01  1.26309539e+01  1.33916732e+01  1.58557426e+01\n",
      " -3.98550110e+00  2.51951354e+01  4.89778850e+00  9.48188750e+00\n",
      "  2.49399094e+00  8.23453943e+00  1.07353823e+01  1.10795479e+01\n",
      "  1.01145565e+01  9.65729662e+00  4.36001806e+00  1.02011310e+01\n",
      "  2.08099127e+01  2.88135714e+01  7.54202406e+00  1.17464089e+01\n",
      "  2.06379474e+01  1.27621055e+01  1.39452142e+01  5.24146556e+00\n",
      "  2.52995220e+01  1.21584711e+01  6.96678842e-01  9.54225211e+00\n",
      "  1.34719065e+01  1.53125111e+01  1.49663956e+01  4.44115067e+00\n",
      "  1.41861931e+01  7.13332999e+00  8.65894766e+00 -1.85901097e+00\n",
      "  5.52224361e+00  1.95459363e+01  9.66629465e+00  5.11804727e+00\n",
      "  1.30566598e+01  3.05741237e+00  1.87426453e+01  1.27615397e+01\n",
      "  1.28541796e+01  2.26953264e+01  1.12967276e+01  1.57603758e+01\n",
      "  1.63343588e+01  1.37586547e+01  1.08111149e+01  4.98352286e+00\n",
      "  1.87010013e+01 -1.57501641e+00  9.29261018e+00 -8.62897536e+00\n",
      "  1.52446651e+01  2.38499344e+01  2.23237957e+01  1.85332104e+01\n",
      "  1.75714789e+01  5.31232534e+00  2.27276434e+01  1.74438081e+00\n",
      "  5.43379917e+00  1.15016508e+01  4.79246155e+00  7.14476217e+00\n",
      "  4.55163248e+00  4.36635097e+00  4.90496347e+00  2.26520146e+01\n",
      "  9.69968407e+00  1.29423331e+01  1.58684457e+01 -6.88252928e-01\n",
      "  4.87660872e-01  4.69118459e+00  1.58988157e+01 -1.26536618e+01\n",
      "  1.33394754e+01  6.87824886e+00  9.32273109e+00  1.01887864e+01\n",
      "  5.87397560e+00  1.30807579e+01 -1.48890010e+01 -6.89382645e+00\n",
      "  6.15794904e+00  8.62692959e+00  2.90174029e+00  1.07054865e+01\n",
      "  9.16669934e+00  1.37772998e+01  1.34831113e+01  1.47931671e+01\n",
      "  8.91468386e+00  8.29736448e+00 -3.38841871e+00  4.14397869e+00\n",
      "  3.30758754e+00  8.60316442e+00 -3.05135004e+00  1.14365149e+01\n",
      "  1.01544013e+01  3.50423797e+00  1.09857067e+01 -9.01024672e+00\n",
      "  9.02963519e-01  1.66968263e+01  4.67509189e+00  1.12958283e+01\n",
      " -1.00874591e+01  1.77615812e+01  1.23777294e+01  1.41990939e+01\n",
      "  2.47476543e+01  1.45532956e+01 -8.48565099e+00 -5.98732857e+00\n",
      "  1.02287679e+01  5.41595928e+00  2.37653048e+01  1.67164077e+01\n",
      "  1.14255562e+01  2.66683141e+00  1.02934465e+01  3.85184749e+00\n",
      "  1.08364317e+01  1.00503374e+01  6.55059153e+00  3.80556585e+01\n",
      "  9.91778521e+00  1.41750422e+01  1.43494638e+01  1.11743939e+01\n",
      "  8.61904463e-01  2.07181666e+01  2.77503925e+01 -1.18142554e-02\n",
      "  1.65032418e+01  6.09305068e+00  1.27131112e+01  1.21772551e+01\n",
      "  1.20273000e+01  7.56948679e-01  5.40914122e+00  2.36011419e+01\n",
      "  1.70289711e+00  1.42726675e+01  1.15705405e+01  8.62390705e-01\n",
      "  9.21321133e+00  6.99243786e+00  1.57852346e+01  9.07552799e+00\n",
      "  6.98005147e+00  6.32969090e+00  5.51829954e+00  1.83256443e+01\n",
      "  1.23980170e+01 -4.78168941e+00 -4.22404460e-01 -1.31621985e+00\n",
      "  1.37420782e+01  1.50519295e+01  1.04336402e+01  4.20008926e+00\n",
      "  2.69453787e+01  1.11325789e+01 -2.11910526e+00  2.45349571e+00\n",
      " -8.18026068e+00 -1.45984612e+01 -1.27810080e+01  6.52927552e+00\n",
      "  1.99349243e+01  9.74553568e-01  2.37030794e+01 -6.93522421e-01\n",
      "  1.34977978e+00  2.90100838e+01  1.43402146e+01 -6.75819968e+00\n",
      "  1.04231273e+01  4.75333183e+00 -3.56853016e+00  5.38030458e-01]\n"
     ]
    }
   ],
   "source": [
    "print(random_numb_norm(10,1,1000))"
   ]
  },
  {
   "cell_type": "code",
   "execution_count": 28,
   "metadata": {
    "scrolled": true
   },
   "outputs": [
    {
     "name": "stdout",
     "output_type": "stream",
     "text": [
      "[  12.28531435   97.84356312   57.88481428  -28.72949534  -11.36284112\n",
      "  -42.46035157   -4.90802102  -11.34680192   39.76363937  -30.66590343\n",
      "  -10.08910803  -13.73890416   -2.97065768   22.08800969    9.32808908\n",
      "   -4.86681802  -33.20327369   31.70752116  -87.98787564   91.10938373\n",
      "   15.30321101   29.74243575   -3.0035296   -29.68605333  -10.42101887\n",
      "    4.54995513  -52.88790898   50.21651134   28.49393209   25.38481844\n",
      "   45.83759809   19.89249644   46.22023651  -16.99249849  -76.22381331\n",
      "   29.16824143   -6.12352652   17.79563055   21.68631904   33.79904106\n",
      "   38.42368418  136.37492885  -30.73449012   70.05704664  -31.0466955\n",
      "   19.46969059  -41.66464302  -36.66247818  -47.20545913   61.30852528\n",
      "   19.81849526   -5.65994297    0.50871838  -52.14469935   25.12811641\n",
      "  -56.47678188    4.67542549   -4.65154856   77.56390701  -31.57408316\n",
      "    8.0687737    38.2671939   -30.27973434   33.97510354   32.50104204\n",
      "   35.41792257  -17.74458015  -51.19303844   21.3241258    -4.34663294\n",
      "   -1.36185734   19.84667975   67.85708646   12.79684032   14.60588393\n",
      "  -31.20059593    6.51828529   58.77001516  -69.37804682   -3.58966843\n",
      "  -70.71210412  -21.16222784   28.65981502  -20.181095     21.64380364\n",
      "   52.97896875   84.81565641    1.20512088  -20.43007574   64.16375505\n",
      "  -66.30451932   13.50307091   54.92623645   84.25454693   73.13383293\n",
      "    4.79261606   -5.9687429    10.03505791   28.4844015    39.32507439\n",
      "   21.64914846  -57.7768238    -7.80835716    8.5604635   -45.96684348\n",
      "  -18.27122857   20.52683144  -10.03991483   24.94437897    3.8582418\n",
      "   10.58824308   34.87539991    9.67642557   53.67406143   38.90153904\n",
      "   34.04381891   51.47775317   18.93130132   56.7737398    -9.5005514\n",
      "  -54.15810786  -18.8426997    -2.81121855   55.87083077  -38.88638053\n",
      "   37.53491686   86.03666137    8.52406126   35.20292761   11.39859081\n",
      "   -6.58953917   24.64231848   61.09306491   31.8202397    38.38712441\n",
      "    9.4960937    20.86523846   33.93520774  -59.91062166   33.88993106\n",
      "   57.52786969   39.08957373   -3.36740968   10.92823243   42.51775593\n",
      "   58.52848865   40.56180317    2.57437641   71.84956298  -39.97510363\n",
      "   40.56102059   65.40668013  -32.33591221  -18.94538724  -11.98511512\n",
      "   -0.37813624   63.12138774   14.28406849   98.2459669   -13.8233119\n",
      "  -20.78350106  -35.87328158  -23.60779702  -29.89796479   -4.53361562\n",
      "  -11.41041869   43.61624958   32.21794044   43.91977286   68.66264515\n",
      "  -66.6685552    22.604842    -31.2189856   -43.88243725   54.94862278\n",
      "  -43.41039786  -57.02913588   74.02066001  -38.16391399  -14.28737623\n",
      "   18.57515783  -44.14551863   -2.11479298    7.67901703   51.47266016\n",
      "  107.36978138    8.79411193  106.63495142  -30.12355588   49.77212152\n",
      "   12.87530685   22.44347211   -1.65388654    1.89027189   59.36281708\n",
      "    5.98214875   75.51213361   23.26586197   44.18164691    7.05882599\n",
      "   78.11048583   60.02667665   41.30604209   87.85251286   60.02401486\n",
      "  -50.08956718   52.64474658   17.1112387    24.94089725   74.82699231\n",
      "   -2.63608992    5.00667411  -51.81743182  -22.26303982   80.17750005\n",
      "    8.0650941    -2.46919128   -5.87425792   31.4698382   -55.05035211\n",
      "  -44.08805998   17.09238048  -34.02403954   30.43432633   73.17694633\n",
      "   45.7434424    97.45239099   30.87830708   35.10805477   17.08044617\n",
      "  -13.54250442   14.67554808  -19.72530169    2.24935894   -6.47812813\n",
      "   81.14357022   82.79447668   11.70238593   24.0976797    16.91152482\n",
      "   42.63603427   43.96230468   84.75322443   31.81024197   13.87624299\n",
      "  -23.9287705   -51.07056892   12.89173216   26.56593122   -8.87499937\n",
      "   17.89939391  -70.90815613   -3.43176543   82.63811359   32.53996859\n",
      "   18.53158696   -2.29429441   57.54526224  -34.04769714   -8.70921148\n",
      "  -45.4197827   -23.88229102   24.44913206    2.06751457    5.24035361\n",
      "  -78.54116616   75.85218164    7.34725107   12.23215268   -6.11452173\n",
      "   20.52213755   -8.12361753  -66.57504718   35.49364985   82.61463244\n",
      "  -29.27987875   -0.9778205    15.74959887  -37.01009246  -47.36299751\n",
      "  -13.69148577    9.24347258   28.50408263  -35.2038814    63.80474629\n",
      "    1.63593411  -22.02194783  -17.6681289     3.0889088   -29.36036092\n",
      "   43.86784246   37.01520185   -3.1716777    23.85412657   71.29726175\n",
      "  -17.61199064   19.05163137  -16.85535567   35.68418482    2.1819992\n",
      "   31.640474    -44.52825965  -61.4928026    17.95449316  -13.96897747\n",
      "   18.99491176  -28.77815004  -23.62768658   32.6977902    42.41158934\n",
      "   24.16054609  -11.19551285   -8.16458266   39.00039927   18.90395304\n",
      "   97.41539176   -7.54090139   64.9134441   -37.01366225  -13.50524517\n",
      "   51.30084245  116.97388956    3.16127305  -10.36894159   33.03342114\n",
      "  -23.57663059  -18.72693632   27.24609931    7.70962434  -13.29899878\n",
      "   39.49220853   72.8111206   -33.35999574    1.17648694   15.89535426\n",
      "   47.48990114   21.59510805  -22.01150038   35.7008313    90.84213746\n",
      "  -15.35598605  -20.46075546    5.9874165    42.98586261  -52.27203155\n",
      "  -48.13620972   29.64573049  -29.0979324    18.38569698  -30.32087526\n",
      "   44.68437427    4.32709915   87.09515889    0.82030336   -8.73275014\n",
      "   80.73748406   -4.82750146   38.47929343   10.215552     31.35930453\n",
      "   99.71675147   -8.97653468   56.84248736   12.36675487  -25.38706942\n",
      "   48.41722028   45.32724008   -7.9690542    17.57382676   65.64161878\n",
      "   34.320053    -33.84875708   19.32592645  -37.48141023  -11.88781468\n",
      "   28.66964521  -36.72886297  -14.47037756  -24.04471975  -31.31650925\n",
      "   79.74645072   -1.95144428   90.27584098  -11.90483823    3.96242148\n",
      "  -26.73077078  -30.4347856    35.89380762   27.47007127   21.31989288\n",
      "   68.32508555    8.19959519   -9.9429545    71.47087351   36.41417604\n",
      "  -26.90875328  -67.82518881   35.09498799   -3.2820937    57.72919035\n",
      "   20.2873756     5.63604935   23.79277044   34.65566072   36.90260037\n",
      "   57.42270832   -9.33960044   32.78291587   60.55883688   57.1298199\n",
      "  103.79565934   28.39905322    4.85598072  -76.20291167  -25.69810941\n",
      "   18.3382193   -30.93522909  -12.80612987   17.97888947  -10.79650775\n",
      "   25.15911277   26.13787189   31.2310622     1.3740338    18.2798731\n",
      "    5.94558177  -18.82728517  -39.67544861  -24.71763817   13.64651109\n",
      "  -24.60300786   30.36382503   41.6979451   -29.37309908   92.6594168\n",
      "   33.43859314    3.37888118   -7.08876613  -55.48094426   -5.0806507\n",
      "   35.2023029   -23.10894678   15.45834028  -39.0919709    34.83131056\n",
      "    3.38817013  -24.84967203   -4.47960362   10.20448013   33.71059276\n",
      "   -8.65294957   -3.56525186   39.8722961   -10.72874244   37.24246165\n",
      "  -40.73419568   40.41321821    7.9387752   -25.68475939  -16.25213981\n",
      "    2.39648245   -8.75909477  -74.39741269  -68.83342772  -61.38837822\n",
      "  -79.4988721     9.43994625   41.75585318    1.64833215  -49.75702136\n",
      "   -5.07620301   81.33821071   -6.24482644  -12.79178887   18.75954741\n",
      "  -44.2251299    -0.57936353   -6.91643474   18.76584303   61.99279011\n",
      "   95.30227103   23.24772363   -9.8683733   -31.56088375   56.54756638\n",
      "   39.76518852   66.0750609    -6.83550057  -31.54685147  -23.24608901\n",
      "  -14.43888508  -13.10041881   39.97113553   14.80038171   19.9326528\n",
      "   44.16076442  -13.91271276   66.22072919   59.9058157   -10.46602867\n",
      "   68.34509854   -7.65146418   -0.37095339   32.34517268   38.61096612\n",
      "  -39.52197551   98.13297708  -14.8074921   -52.8308967    87.09523743\n",
      "   53.05462172   60.63586146   25.00682755  -28.0184699     8.01725003\n",
      "   29.31802221   30.50541569   -5.49352903    6.33544991  -30.65534555\n",
      "    6.58203181   43.72090114  -36.70548871  -30.28481199   64.54021517\n",
      "    5.80532315   10.19156327   57.14217762  -10.74041338   21.96508631\n",
      "  -28.05601032   15.28729588    8.46830086   24.70200355  -69.10734118\n",
      "  -27.37982092  -22.70537518   79.94606807  -83.42048618  -22.33732503\n",
      "   36.79364974  -42.90854711   13.36203633  -19.32875102   62.35970931\n",
      "  -21.23767009  -72.99813364  -25.3828235    83.67976738  -31.13888236\n",
      "    2.44456803   25.32500062   20.741138      6.91161484   14.06620839\n",
      "   14.71848852  -49.52688757   19.56133822   45.86270311   52.74312008\n",
      "  -16.61483889  -29.30338648    0.86735056   14.90006239   42.28591272\n",
      "  -39.49810577   43.7135612    36.27898111   -5.40638828    7.7658721\n",
      "  -89.75125898  -27.53554873   -6.71135134   -4.62243551  -33.37478062\n",
      "   -7.32153899   43.21060508   98.61965756   74.85397532   19.59964867\n",
      "  -19.39077342   53.39237176   -9.40653526  -30.90470218    5.23329485\n",
      "   85.72138963   40.0090838   -36.37096079    2.80224586   12.96566324\n",
      "   15.61702323   79.40255064   20.68059593    1.77542275  -24.11122995\n",
      "   -9.74338425  -62.25773743   35.63151292  -48.19942248   16.87892096\n",
      "  -28.27558543  101.14108186  -49.47246796   24.10249217  100.2726834\n",
      "   55.85470773  -80.77222826    8.82993702   29.79951033    9.34316891\n",
      "   53.49269295   14.31895065   31.7955364   110.3746097   -63.89284596\n",
      "   72.85918594  -32.91861502   56.52267777   17.68060727    9.0578419\n",
      "   20.65968018  -31.52361516   30.22675726    7.6760805    -5.0617915\n",
      "   11.05560843   -0.99052711   30.63075665  -44.41729605   67.07503048\n",
      "   21.29221118   15.99893341  -36.76034531   13.00616288  -46.57316095\n",
      "   -8.06231266   -2.63109951   50.82323593   18.9585494   -38.14243045\n",
      "    2.15536702  -54.94133099   29.45493887  -43.78620539   81.80993084\n",
      "   -1.45666071  -20.4950482   -44.60880934   42.2238352     8.00797616\n",
      "   -6.65683718   27.63718397   -7.39809433    3.45719223  -35.58343576\n",
      "   35.46690178  -29.44101716  123.79368156  -52.35855867   22.96700757\n",
      "   43.21609812    5.71381139  -65.31392966  -19.61585354   69.74127473\n",
      "    3.7125013    60.80994142   -5.99210187   17.7875087     8.90494315\n",
      "   75.6191085    24.502507      6.68970954  -46.8126102    15.41045219\n",
      "   43.79163741    7.92146874   20.13396759   60.78812183  -49.52204374\n",
      "   63.90387739  -21.20334461  -49.71344408  -21.40635237   26.75567194\n",
      "  -22.27119975   22.49861103   58.13883868   22.48409058  -36.49305378\n",
      "  -55.10388235   40.29147268   -7.14624907   71.8369787    40.16821351\n",
      "  -49.50797808   27.12555194   47.13503195    2.09130206   22.32634737\n",
      "  -13.35793607   -3.75431396   -9.97848518  -29.38610611   55.25461615\n",
      "  -33.20005255    6.24753795   25.83998857   36.45117903   13.27198299\n",
      "  -10.6658081   -39.3841082   -14.20573418  -11.42661581   41.61408109\n",
      "  -13.29512953   68.88163961  -17.1058704   -22.27025267   -6.37433294\n",
      "   76.35078313   59.70688466  -49.38182537  -36.98222219    5.11142414\n",
      "   50.65918799  -10.09762647  -10.23171918   33.33112301   46.45350072\n",
      "  -22.87086904    5.29384203  -32.02579307    4.65623181   66.1288522\n",
      "  -11.10558593  -27.55544541  -40.82229805  -68.1276758    22.43562327\n",
      "  -13.5931586    49.65508711  -44.28574426   49.9369865    -3.56582118\n",
      "   24.58473955   43.08527216   -9.11258095   26.27647138   49.00701094\n",
      "   72.5724226   -45.56095043   17.58343445  -56.30688185  -38.95558425\n",
      "  -16.85400142   45.94926201  -19.10485701  -32.33465087   25.23364168\n",
      "   43.59515567   62.10237322   55.39622061   18.923311    -11.59672007\n",
      "   29.77016654  -50.34613266    1.76965923   18.52029163   32.10410851\n",
      "   25.72175254   44.55571865  -32.26769539   17.87351585   -0.69242585\n",
      "  -10.50493597  -12.04066214  -58.73452214  -30.30716784   65.12267366\n",
      "   11.39410987  -44.77394948   32.1898542   -47.09790089   21.54364412\n",
      "   17.90647744    6.18538564   -4.47650015   79.0024826     5.4567065\n",
      "   28.57686632   -9.30331795  -16.20197483   33.68951749  -70.68383414\n",
      "   49.22894135   69.63778312  -33.59598646  -37.39906023   -7.68656555\n",
      "  -23.1159606    38.64726702    7.67911244 -108.13793719   34.76392091\n",
      "   65.4768345    61.37619871  -19.68734932   68.26075213  -13.37798883\n",
      "   13.76445631   -7.69867361  -31.49886567   19.58140011  -11.40557472\n",
      "  -41.62513584  -26.87227397  -17.94189408  -61.76761245  -31.11946714\n",
      "   90.06897115   25.53289416    0.51989295   40.64217968   -7.40431684\n",
      "  -15.07841571   56.015463     38.77920528   -2.59455655   54.54284744\n",
      "   57.7112599    18.08538881  -40.53429872   11.63620679  -56.14900848\n",
      "    8.48942123  -47.37930467  -27.19166865   33.10288825  -24.49051941\n",
      "  -46.22002013   61.63019123  -12.03853086  -49.36774671  -11.20696565\n",
      "    0.61147539  -28.62432711    3.55812784  -27.32156148  -10.09359369\n",
      "   53.20617688   -6.79472531   29.64183202   37.58020788   58.34699968\n",
      "   -7.99708694   14.73208233   22.15067436    6.77181129  -23.31813271\n",
      "   10.73561486  -20.40922429   17.84990827    6.20289827  -41.42713614\n",
      "  -18.2683863   -51.01887584   32.4493503   -42.80838188    8.7857866\n",
      "  -67.9184085    64.99475638  -28.86351244  -39.99124786   10.2584367\n",
      "   33.69292869   31.54832153  -14.05652106   53.39485117   52.11992696\n",
      "  -10.99928005  -12.36066844   51.50948377   41.56934359    1.41400541\n",
      "   -2.7209795   -53.85717384  -22.91506858   28.47897031    5.41948482\n",
      "    0.69060208   48.1860669    43.88251677   21.72215561   50.73892057\n",
      "    1.32741668   21.06004385   65.14094922   39.65617356  -37.89324418\n",
      "   21.15198762   24.48021791  -44.22874519  -44.04507227   77.67206191\n",
      "   -4.79129815   56.70806984   57.36882297    3.41861769   12.63230859\n",
      "   -5.76578887  -23.30974799  -39.86084742    7.94944187  -32.96632309\n",
      "   10.14978008   20.49718981  -60.76407032  -62.11071925 -129.81087615\n",
      "   31.05754795   48.29911353   -5.04770364  -33.679323     25.26825813\n",
      "   16.17783875   48.51903123   32.60418858  -29.76670595   -1.36733618\n",
      "   22.56387455  -40.77799271  -34.96805128  -36.62699503   15.84242293\n",
      "   19.14712604  -32.09284124    8.2516816   -21.38230943    7.20329042\n",
      "   19.34382449  -12.81737098   60.54962042   51.93365951  -13.04624101\n",
      "   37.02640365  -14.15593874  -34.79377426   89.30381284   36.00928864\n",
      "   52.76731732  -67.36655568   33.70317722    9.59385164   24.29861737\n",
      "   45.58223746   18.18138085    6.42606374  -61.72188023   -6.34342832\n",
      "   83.25857038   59.35296359   -9.89378435   53.19436949   75.46034725\n",
      "   24.93682979  -11.68972971 -110.34933871   17.13121902   -8.86242267\n",
      "    6.06986787  -26.31090799   39.18428805   19.8965075    -5.55837106\n",
      "   49.49287411   35.43372321   91.08190868    3.501317    -29.10148368\n",
      "   13.3551919   -46.06234917  -71.30062775  -28.60029002   -3.71060629\n",
      "   17.24506601   34.46943655   -9.77283799   49.64386801    5.32511217\n",
      "   10.19272103   45.26573012   -6.08665366   94.68932925   -1.79619132\n",
      "    1.91363675  -38.05810382   13.88252287  -35.72519463   23.72027585]\n"
     ]
    }
   ],
   "source": [
    "print(random_numb_norm(10,50,1000))"
   ]
  },
  {
   "cell_type": "code",
   "execution_count": 29,
   "metadata": {},
   "outputs": [
    {
     "data": {
      "text/plain": [
       "(array([ 12.,  66., 163., 269., 254., 168.,  55.,  10.,   2.,   1.]),\n",
       " array([-107.39085443,  -78.02299745,  -48.65514047,  -19.28728349,\n",
       "          10.0805735 ,   39.44843048,   68.81628746,   98.18414444,\n",
       "         127.55200143,  156.91985841,  186.28771539]),\n",
       " <a list of 10 Patch objects>)"
      ]
     },
     "execution_count": 29,
     "metadata": {},
     "output_type": "execute_result"
    },
    {
     "data": {
      "image/png": "[encoded data removed]",
      "text/plain": [
       "<Figure size 720x360 with 2 Axes>"
      ]
     },
     "metadata": {
      "needs_background": "light"
     },
     "output_type": "display_data"
    }
   ],
   "source": [
    "# Adding the two histograms together\n",
    "fig, axs = plt.subplots(1, 2, figsize=(10, 5))\n",
    "axs[0].hist(random_numb_norm(10,1,1000))\n",
    "axs[1].hist(random_numb_norm(10,50,1000))"
   ]
  },
  {
   "cell_type": "markdown",
   "metadata": {},
   "source": [
    "How are the two distributions different?"
   ]
  },
  {
   "cell_type": "code",
   "execution_count": null,
   "metadata": {},
   "outputs": [],
   "source": [
    "# your answer here:\n",
    "# In the first histogram, the standard deviation is small, so the data is less spread and more concentrated around the mean.\n",
    "# In the second histogram, the standard deviation is higher, so the results are more spread.\n"
   ]
  },
  {
   "cell_type": "markdown",
   "metadata": {},
   "source": [
    "## Normal Distribution of Real Data\n",
    "\n",
    "In this challenge we are going to take a look the real data. We will use vehicles.csv file for this exercise"
   ]
  },
  {
   "cell_type": "markdown",
   "metadata": {},
   "source": [
    "First import vehicles.csv.\n",
    "Then plot the histograms for the following variables:\n",
    "\n",
    "1. Fuel Barrels/Year"
   ]
  },
  {
   "cell_type": "code",
   "execution_count": 30,
   "metadata": {},
   "outputs": [
    {
     "data": {
      "text/html": [
       "<div>\n",
       "<style scoped>\n",
       "    .dataframe tbody tr th:only-of-type {\n",
       "        vertical-align: middle;\n",
       "    }\n",
       "\n",
       "    .dataframe tbody tr th {\n",
       "        vertical-align: top;\n",
       "    }\n",
       "\n",
       "    .dataframe thead th {\n",
       "        text-align: right;\n",
       "    }\n",
       "</style>\n",
       "<table border=\"1\" class=\"dataframe\">\n",
       "  <thead>\n",
       "    <tr style=\"text-align: right;\">\n",
       "      <th></th>\n",
       "      <th>Make</th>\n",
       "      <th>Model</th>\n",
       "      <th>Year</th>\n",
       "      <th>Engine Displacement</th>\n",
       "      <th>Cylinders</th>\n",
       "      <th>Transmission</th>\n",
       "      <th>Drivetrain</th>\n",
       "      <th>Vehicle Class</th>\n",
       "      <th>Fuel Type</th>\n",
       "      <th>Fuel Barrels/Year</th>\n",
       "      <th>City MPG</th>\n",
       "      <th>Highway MPG</th>\n",
       "      <th>Combined MPG</th>\n",
       "      <th>CO2 Emission Grams/Mile</th>\n",
       "      <th>Fuel Cost/Year</th>\n",
       "    </tr>\n",
       "  </thead>\n",
       "  <tbody>\n",
       "    <tr>\n",
       "      <td>0</td>\n",
       "      <td>AM General</td>\n",
       "      <td>DJ Po Vehicle 2WD</td>\n",
       "      <td>1984</td>\n",
       "      <td>2.5</td>\n",
       "      <td>4.0</td>\n",
       "      <td>Automatic 3-spd</td>\n",
       "      <td>2-Wheel Drive</td>\n",
       "      <td>Special Purpose Vehicle 2WD</td>\n",
       "      <td>Regular</td>\n",
       "      <td>19.388824</td>\n",
       "      <td>18</td>\n",
       "      <td>17</td>\n",
       "      <td>17</td>\n",
       "      <td>522.764706</td>\n",
       "      <td>1950</td>\n",
       "    </tr>\n",
       "    <tr>\n",
       "      <td>1</td>\n",
       "      <td>AM General</td>\n",
       "      <td>FJ8c Post Office</td>\n",
       "      <td>1984</td>\n",
       "      <td>4.2</td>\n",
       "      <td>6.0</td>\n",
       "      <td>Automatic 3-spd</td>\n",
       "      <td>2-Wheel Drive</td>\n",
       "      <td>Special Purpose Vehicle 2WD</td>\n",
       "      <td>Regular</td>\n",
       "      <td>25.354615</td>\n",
       "      <td>13</td>\n",
       "      <td>13</td>\n",
       "      <td>13</td>\n",
       "      <td>683.615385</td>\n",
       "      <td>2550</td>\n",
       "    </tr>\n",
       "    <tr>\n",
       "      <td>2</td>\n",
       "      <td>AM General</td>\n",
       "      <td>Post Office DJ5 2WD</td>\n",
       "      <td>1985</td>\n",
       "      <td>2.5</td>\n",
       "      <td>4.0</td>\n",
       "      <td>Automatic 3-spd</td>\n",
       "      <td>Rear-Wheel Drive</td>\n",
       "      <td>Special Purpose Vehicle 2WD</td>\n",
       "      <td>Regular</td>\n",
       "      <td>20.600625</td>\n",
       "      <td>16</td>\n",
       "      <td>17</td>\n",
       "      <td>16</td>\n",
       "      <td>555.437500</td>\n",
       "      <td>2100</td>\n",
       "    </tr>\n",
       "    <tr>\n",
       "      <td>3</td>\n",
       "      <td>AM General</td>\n",
       "      <td>Post Office DJ8 2WD</td>\n",
       "      <td>1985</td>\n",
       "      <td>4.2</td>\n",
       "      <td>6.0</td>\n",
       "      <td>Automatic 3-spd</td>\n",
       "      <td>Rear-Wheel Drive</td>\n",
       "      <td>Special Purpose Vehicle 2WD</td>\n",
       "      <td>Regular</td>\n",
       "      <td>25.354615</td>\n",
       "      <td>13</td>\n",
       "      <td>13</td>\n",
       "      <td>13</td>\n",
       "      <td>683.615385</td>\n",
       "      <td>2550</td>\n",
       "    </tr>\n",
       "    <tr>\n",
       "      <td>4</td>\n",
       "      <td>ASC Incorporated</td>\n",
       "      <td>GNX</td>\n",
       "      <td>1987</td>\n",
       "      <td>3.8</td>\n",
       "      <td>6.0</td>\n",
       "      <td>Automatic 4-spd</td>\n",
       "      <td>Rear-Wheel Drive</td>\n",
       "      <td>Midsize Cars</td>\n",
       "      <td>Premium</td>\n",
       "      <td>20.600625</td>\n",
       "      <td>14</td>\n",
       "      <td>21</td>\n",
       "      <td>16</td>\n",
       "      <td>555.437500</td>\n",
       "      <td>2550</td>\n",
       "    </tr>\n",
       "    <tr>\n",
       "      <td>...</td>\n",
       "      <td>...</td>\n",
       "      <td>...</td>\n",
       "      <td>...</td>\n",
       "      <td>...</td>\n",
       "      <td>...</td>\n",
       "      <td>...</td>\n",
       "      <td>...</td>\n",
       "      <td>...</td>\n",
       "      <td>...</td>\n",
       "      <td>...</td>\n",
       "      <td>...</td>\n",
       "      <td>...</td>\n",
       "      <td>...</td>\n",
       "      <td>...</td>\n",
       "      <td>...</td>\n",
       "    </tr>\n",
       "    <tr>\n",
       "      <td>35947</td>\n",
       "      <td>smart</td>\n",
       "      <td>fortwo coupe</td>\n",
       "      <td>2013</td>\n",
       "      <td>1.0</td>\n",
       "      <td>3.0</td>\n",
       "      <td>Auto(AM5)</td>\n",
       "      <td>Rear-Wheel Drive</td>\n",
       "      <td>Two Seaters</td>\n",
       "      <td>Premium</td>\n",
       "      <td>9.155833</td>\n",
       "      <td>34</td>\n",
       "      <td>38</td>\n",
       "      <td>36</td>\n",
       "      <td>244.000000</td>\n",
       "      <td>1100</td>\n",
       "    </tr>\n",
       "    <tr>\n",
       "      <td>35948</td>\n",
       "      <td>smart</td>\n",
       "      <td>fortwo coupe</td>\n",
       "      <td>2014</td>\n",
       "      <td>1.0</td>\n",
       "      <td>3.0</td>\n",
       "      <td>Auto(AM5)</td>\n",
       "      <td>Rear-Wheel Drive</td>\n",
       "      <td>Two Seaters</td>\n",
       "      <td>Premium</td>\n",
       "      <td>9.155833</td>\n",
       "      <td>34</td>\n",
       "      <td>38</td>\n",
       "      <td>36</td>\n",
       "      <td>243.000000</td>\n",
       "      <td>1100</td>\n",
       "    </tr>\n",
       "    <tr>\n",
       "      <td>35949</td>\n",
       "      <td>smart</td>\n",
       "      <td>fortwo coupe</td>\n",
       "      <td>2015</td>\n",
       "      <td>1.0</td>\n",
       "      <td>3.0</td>\n",
       "      <td>Auto(AM5)</td>\n",
       "      <td>Rear-Wheel Drive</td>\n",
       "      <td>Two Seaters</td>\n",
       "      <td>Premium</td>\n",
       "      <td>9.155833</td>\n",
       "      <td>34</td>\n",
       "      <td>38</td>\n",
       "      <td>36</td>\n",
       "      <td>244.000000</td>\n",
       "      <td>1100</td>\n",
       "    </tr>\n",
       "    <tr>\n",
       "      <td>35950</td>\n",
       "      <td>smart</td>\n",
       "      <td>fortwo coupe</td>\n",
       "      <td>2016</td>\n",
       "      <td>0.9</td>\n",
       "      <td>3.0</td>\n",
       "      <td>Auto(AM6)</td>\n",
       "      <td>Rear-Wheel Drive</td>\n",
       "      <td>Two Seaters</td>\n",
       "      <td>Premium</td>\n",
       "      <td>9.155833</td>\n",
       "      <td>34</td>\n",
       "      <td>39</td>\n",
       "      <td>36</td>\n",
       "      <td>246.000000</td>\n",
       "      <td>1100</td>\n",
       "    </tr>\n",
       "    <tr>\n",
       "      <td>35951</td>\n",
       "      <td>smart</td>\n",
       "      <td>fortwo coupe</td>\n",
       "      <td>2016</td>\n",
       "      <td>0.9</td>\n",
       "      <td>3.0</td>\n",
       "      <td>Manual 5-spd</td>\n",
       "      <td>Rear-Wheel Drive</td>\n",
       "      <td>Two Seaters</td>\n",
       "      <td>Premium</td>\n",
       "      <td>9.417429</td>\n",
       "      <td>32</td>\n",
       "      <td>39</td>\n",
       "      <td>35</td>\n",
       "      <td>255.000000</td>\n",
       "      <td>1150</td>\n",
       "    </tr>\n",
       "  </tbody>\n",
       "</table>\n",
       "<p>35952 rows × 15 columns</p>\n",
       "</div>"
      ],
      "text/plain": [
       "                   Make                Model  Year  Engine Displacement  \\\n",
       "0            AM General    DJ Po Vehicle 2WD  1984                  2.5   \n",
       "1            AM General     FJ8c Post Office  1984                  4.2   \n",
       "2            AM General  Post Office DJ5 2WD  1985                  2.5   \n",
       "3            AM General  Post Office DJ8 2WD  1985                  4.2   \n",
       "4      ASC Incorporated                  GNX  1987                  3.8   \n",
       "...                 ...                  ...   ...                  ...   \n",
       "35947             smart         fortwo coupe  2013                  1.0   \n",
       "35948             smart         fortwo coupe  2014                  1.0   \n",
       "35949             smart         fortwo coupe  2015                  1.0   \n",
       "35950             smart         fortwo coupe  2016                  0.9   \n",
       "35951             smart         fortwo coupe  2016                  0.9   \n",
       "\n",
       "       Cylinders     Transmission        Drivetrain  \\\n",
       "0            4.0  Automatic 3-spd     2-Wheel Drive   \n",
       "1            6.0  Automatic 3-spd     2-Wheel Drive   \n",
       "2            4.0  Automatic 3-spd  Rear-Wheel Drive   \n",
       "3            6.0  Automatic 3-spd  Rear-Wheel Drive   \n",
       "4            6.0  Automatic 4-spd  Rear-Wheel Drive   \n",
       "...          ...              ...               ...   \n",
       "35947        3.0        Auto(AM5)  Rear-Wheel Drive   \n",
       "35948        3.0        Auto(AM5)  Rear-Wheel Drive   \n",
       "35949        3.0        Auto(AM5)  Rear-Wheel Drive   \n",
       "35950        3.0        Auto(AM6)  Rear-Wheel Drive   \n",
       "35951        3.0     Manual 5-spd  Rear-Wheel Drive   \n",
       "\n",
       "                     Vehicle Class Fuel Type  Fuel Barrels/Year  City MPG  \\\n",
       "0      Special Purpose Vehicle 2WD   Regular          19.388824        18   \n",
       "1      Special Purpose Vehicle 2WD   Regular          25.354615        13   \n",
       "2      Special Purpose Vehicle 2WD   Regular          20.600625        16   \n",
       "3      Special Purpose Vehicle 2WD   Regular          25.354615        13   \n",
       "4                     Midsize Cars   Premium          20.600625        14   \n",
       "...                            ...       ...                ...       ...   \n",
       "35947                  Two Seaters   Premium           9.155833        34   \n",
       "35948                  Two Seaters   Premium           9.155833        34   \n",
       "35949                  Two Seaters   Premium           9.155833        34   \n",
       "35950                  Two Seaters   Premium           9.155833        34   \n",
       "35951                  Two Seaters   Premium           9.417429        32   \n",
       "\n",
       "       Highway MPG  Combined MPG  CO2 Emission Grams/Mile  Fuel Cost/Year  \n",
       "0               17            17               522.764706            1950  \n",
       "1               13            13               683.615385            2550  \n",
       "2               17            16               555.437500            2100  \n",
       "3               13            13               683.615385            2550  \n",
       "4               21            16               555.437500            2550  \n",
       "...            ...           ...                      ...             ...  \n",
       "35947           38            36               244.000000            1100  \n",
       "35948           38            36               243.000000            1100  \n",
       "35949           38            36               244.000000            1100  \n",
       "35950           39            36               246.000000            1100  \n",
       "35951           39            35               255.000000            1150  \n",
       "\n",
       "[35952 rows x 15 columns]"
      ]
     },
     "execution_count": 30,
     "metadata": {},
     "output_type": "execute_result"
    }
   ],
   "source": [
    "# your code here\n",
    "vehicles = pd.read_csv('vehicles.csv')\n",
    "vehicles"
   ]
  },
  {
   "cell_type": "markdown",
   "metadata": {},
   "source": [
    "2. CO2 Emission Grams/Mile "
   ]
  },
  {
   "cell_type": "code",
   "execution_count": 38,
   "metadata": {},
   "outputs": [
    {
     "data": {
      "text/plain": [
       "<matplotlib.axes._subplots.AxesSubplot at 0x1a200d1d50>"
      ]
     },
     "execution_count": 38,
     "metadata": {},
     "output_type": "execute_result"
    },
    {
     "data": {
      "image/png": "[encoded data removed]",
      "text/plain": [
       "<Figure size 432x288 with 1 Axes>"
      ]
     },
     "metadata": {
      "needs_background": "light"
     },
     "output_type": "display_data"
    }
   ],
   "source": [
    "vehicles[\"Fuel Barrels/Year\"].hist()"
   ]
  },
  {
   "cell_type": "code",
   "execution_count": 36,
   "metadata": {
    "scrolled": true
   },
   "outputs": [
    {
     "data": {
      "text/plain": [
       "<matplotlib.axes._subplots.AxesSubplot at 0x1a202dccd0>"
      ]
     },
     "execution_count": 36,
     "metadata": {},
     "output_type": "execute_result"
    },
    {
     "data": {
      "image/png": "[encoded data removed]",
      "text/plain": [
       "<Figure size 432x288 with 1 Axes>"
      ]
     },
     "metadata": {
      "needs_background": "light"
     },
     "output_type": "display_data"
    }
   ],
   "source": [
    "# your code here\n",
    "vehicles[\"CO2 Emission Grams/Mile\"].hist()"
   ]
  },
  {
   "cell_type": "markdown",
   "metadata": {},
   "source": [
    "3. Combined MPG"
   ]
  },
  {
   "cell_type": "code",
   "execution_count": 37,
   "metadata": {},
   "outputs": [
    {
     "data": {
      "text/plain": [
       "<matplotlib.axes._subplots.AxesSubplot at 0x1a200026d0>"
      ]
     },
     "execution_count": 37,
     "metadata": {},
     "output_type": "execute_result"
    },
    {
     "data": {
      "image/png": "[encoded data removed]",
      "text/plain": [
       "<Figure size 432x288 with 1 Axes>"
      ]
     },
     "metadata": {
      "needs_background": "light"
     },
     "output_type": "display_data"
    }
   ],
   "source": [
    "# your code here\n",
    "vehicles[\"Combined MPG\"].hist()"
   ]
  },
  {
   "cell_type": "markdown",
   "metadata": {},
   "source": [
    "Which one(s) of the variables are nearly normally distributed? How do you know?"
   ]
  },
  {
   "cell_type": "code",
   "execution_count": null,
   "metadata": {},
   "outputs": [],
   "source": [
    "# you answer here:\n",
    "# All variables have more or less a Bell shape.\n",
    "# However, the Combined MPG looks like the most equally divided distribution."
   ]
  },
  {
   "cell_type": "markdown",
   "metadata": {},
   "source": [
    "## Exponential Distribution"
   ]
  },
  {
   "cell_type": "markdown",
   "metadata": {},
   "source": [
    "1. Using `numpy.random.exponential`, create a function that returns a list of numbers exponentially distributed with the mean of 10. \n",
    "\n",
    "1. Use the function to generate two number sequences with a mean of 1 and 100 and a size of 1000.\n",
    "\n",
    "1. Plot the distributions as histograms with the number of bins as 100.\n",
    "\n",
    "Your output should look like below:\n",
    "\n",
    "![exponential distribution](ed.png)"
   ]
  },
  {
   "cell_type": "code",
   "execution_count": 44,
   "metadata": {},
   "outputs": [],
   "source": [
    "# your code here\n",
    "\n",
    "# Creating the function:\n",
    "def random_numb_ex(x, size):\n",
    "    random_2 = np.random.exponential(x, size)\n",
    "    return random_2"
   ]
  },
  {
   "cell_type": "code",
   "execution_count": 45,
   "metadata": {},
   "outputs": [
    {
     "name": "stdout",
     "output_type": "stream",
     "text": [
      "[ 0.06045275  2.74925942  2.60526939  0.30091877 24.12940693  2.56790516\n",
      "  4.50336319 29.9404365   1.89633005 12.28029146  2.63993925  4.52315421\n",
      "  1.32306614  3.52162097 15.52728053  2.97346437 25.52918433  1.65346528\n",
      " 47.47572338 32.51186841 21.43144933 18.22907984  9.89744013 25.39246986\n",
      " 14.32511567 29.01794747  1.5601932   9.30677971  0.4445745  16.81583572\n",
      " 17.70934697  4.84278689 23.87832822  3.17633679 13.71264602 36.21428486\n",
      "  2.12897588  1.73222175 50.63368863 14.17788497  8.88412161 22.58927092\n",
      " 25.12202433  4.37344545  2.7239401  12.62897312 14.87678703  4.78179179\n",
      "  9.27292457 17.39365857  2.36172026  6.0530943  15.57037932  0.44953471\n",
      "  4.52732476 10.5937542  10.1617756  21.10866151 37.81903153 21.82269849\n",
      "  1.1006603  15.6027661   7.32982934  4.21634548  1.42650761 51.16170701\n",
      "  4.20575023 40.89429247  1.91447294  6.16072555 16.70014935  0.60771631\n",
      "  2.95859795  2.45542607  1.97038318 14.48912193 10.93314272 19.59129142\n",
      "  9.00595603 11.26451444  4.57696855  3.91890546 11.31918604  8.67258309\n",
      "  7.77097865 11.70463934  0.4620097   5.52034295  1.67178039  8.94455488\n",
      "  2.70366513  5.91031967 15.10659668 12.74694336  3.68199276  1.5437087\n",
      " 23.5411818  13.78101436 13.41514337  3.01959646]\n"
     ]
    }
   ],
   "source": [
    "# Function with the mean of 10:\n",
    "print(random_numb_ex(10,100))"
   ]
  },
  {
   "cell_type": "code",
   "execution_count": null,
   "metadata": {},
   "outputs": [],
   "source": [
    "# Function with the mean of 1:\n",
    "print(random_numb_ex(1,1000))"
   ]
  },
  {
   "cell_type": "code",
   "execution_count": null,
   "metadata": {},
   "outputs": [],
   "source": [
    "# Function with the mean of 100:\n",
    "print(random_numb_ex(100,1000))"
   ]
  },
  {
   "cell_type": "code",
   "execution_count": 46,
   "metadata": {},
   "outputs": [
    {
     "data": {
      "image/png": "[encoded data removed]",
      "text/plain": [
       "<Figure size 432x288 with 1 Axes>"
      ]
     },
     "metadata": {
      "needs_background": "light"
     },
     "output_type": "display_data"
    }
   ],
   "source": [
    "# Function with the mean of 1:\n",
    "plt.hist(random_numb_ex(1,1000), bins = (range(100)))\n",
    "plt.show()"
   ]
  },
  {
   "cell_type": "code",
   "execution_count": 47,
   "metadata": {},
   "outputs": [
    {
     "data": {
      "image/png": "[encoded data removed]",
      "text/plain": [
       "<Figure size 432x288 with 1 Axes>"
      ]
     },
     "metadata": {
      "needs_background": "light"
     },
     "output_type": "display_data"
    }
   ],
   "source": [
    "# Function with the mean of 100:\n",
    "plt.hist(random_numb_ex(100,1000), bins = (range(100)))\n",
    "plt.show()"
   ]
  },
  {
   "cell_type": "code",
   "execution_count": 48,
   "metadata": {},
   "outputs": [
    {
     "data": {
      "text/plain": [
       "(array([102.,  68.,  69.,  71.,  53.,  48.,  47.,  55.,  37.,  37.,  38.,\n",
       "         24.,  25.,  27.,  23.,  27.,  17.,  20.,  18.,  14.,  12.,   9.,\n",
       "         14.,  14.,  13.,  14.,  11.,   8.,   9.,   9.,   4.,   5.,   4.,\n",
       "          5.,   2.,   5.,   5.,   4.,   6.,   2.,   2.,   1.,   1.,   2.,\n",
       "          1.,   1.,   1.,   1.,   1.,   1.,   2.,   3.,   0.,   0.,   1.,\n",
       "          1.,   1.,   0.,   0.,   1.,   0.,   1.,   0.,   0.,   0.,   0.,\n",
       "          0.,   0.,   0.,   0.,   0.,   0.,   0.,   0.,   0.,   1.,   0.,\n",
       "          0.,   0.,   0.,   0.,   1.,   0.,   0.,   0.,   0.,   0.,   0.,\n",
       "          0.,   0.,   0.,   0.,   0.,   0.,   0.,   0.,   0.,   0.,   0.,\n",
       "          1.]),\n",
       " array([2.04542294e-02, 8.74277343e+00, 1.74650926e+01, 2.61874118e+01,\n",
       "        3.49097310e+01, 4.36320503e+01, 5.23543695e+01, 6.10766887e+01,\n",
       "        6.97990079e+01, 7.85213271e+01, 8.72436463e+01, 9.59659655e+01,\n",
       "        1.04688285e+02, 1.13410604e+02, 1.22132923e+02, 1.30855242e+02,\n",
       "        1.39577561e+02, 1.48299881e+02, 1.57022200e+02, 1.65744519e+02,\n",
       "        1.74466838e+02, 1.83189158e+02, 1.91911477e+02, 2.00633796e+02,\n",
       "        2.09356115e+02, 2.18078434e+02, 2.26800754e+02, 2.35523073e+02,\n",
       "        2.44245392e+02, 2.52967711e+02, 2.61690030e+02, 2.70412350e+02,\n",
       "        2.79134669e+02, 2.87856988e+02, 2.96579307e+02, 3.05301626e+02,\n",
       "        3.14023946e+02, 3.22746265e+02, 3.31468584e+02, 3.40190903e+02,\n",
       "        3.48913222e+02, 3.57635542e+02, 3.66357861e+02, 3.75080180e+02,\n",
       "        3.83802499e+02, 3.92524818e+02, 4.01247138e+02, 4.09969457e+02,\n",
       "        4.18691776e+02, 4.27414095e+02, 4.36136414e+02, 4.44858734e+02,\n",
       "        4.53581053e+02, 4.62303372e+02, 4.71025691e+02, 4.79748010e+02,\n",
       "        4.88470330e+02, 4.97192649e+02, 5.05914968e+02, 5.14637287e+02,\n",
       "        5.23359606e+02, 5.32081926e+02, 5.40804245e+02, 5.49526564e+02,\n",
       "        5.58248883e+02, 5.66971203e+02, 5.75693522e+02, 5.84415841e+02,\n",
       "        5.93138160e+02, 6.01860479e+02, 6.10582799e+02, 6.19305118e+02,\n",
       "        6.28027437e+02, 6.36749756e+02, 6.45472075e+02, 6.54194395e+02,\n",
       "        6.62916714e+02, 6.71639033e+02, 6.80361352e+02, 6.89083671e+02,\n",
       "        6.97805991e+02, 7.06528310e+02, 7.15250629e+02, 7.23972948e+02,\n",
       "        7.32695267e+02, 7.41417587e+02, 7.50139906e+02, 7.58862225e+02,\n",
       "        7.67584544e+02, 7.76306863e+02, 7.85029183e+02, 7.93751502e+02,\n",
       "        8.02473821e+02, 8.11196140e+02, 8.19918459e+02, 8.28640779e+02,\n",
       "        8.37363098e+02, 8.46085417e+02, 8.54807736e+02, 8.63530055e+02,\n",
       "        8.72252375e+02]),\n",
       " <a list of 100 Patch objects>)"
      ]
     },
     "execution_count": 48,
     "metadata": {},
     "output_type": "execute_result"
    },
    {
     "data": {
      "image/png": "[encoded data removed]",
      "text/plain": [
       "<Figure size 720x360 with 2 Axes>"
      ]
     },
     "metadata": {
      "needs_background": "light"
     },
     "output_type": "display_data"
    }
   ],
   "source": [
    "fig, axs = plt.subplots(1, 2, figsize=(10, 5))\n",
    "axs[0].hist(random_numb_ex(1,1000),bins = 100)\n",
    "axs[1].hist(random_numb_ex(100,1000),bins = 100)"
   ]
  },
  {
   "cell_type": "markdown",
   "metadata": {},
   "source": [
    "How are the two distributions different?"
   ]
  },
  {
   "cell_type": "code",
   "execution_count": null,
   "metadata": {},
   "outputs": [],
   "source": [
    "# your answer here:\n",
    "# In the second graph the results are more distributed around the mean of 100.\n",
    "# However both graphs are fairly right skewed.\n"
   ]
  },
  {
   "cell_type": "markdown",
   "metadata": {},
   "source": [
    "## Exponential Distribution of Real Data\n",
    "\n",
    "Suppose that the amount of time one spends in a bank is exponentially distributed with mean as 10 minutes (i.e. λ = 1/10). What is the probability that a customer will spend less than fifteen minutes in the bank? \n",
    "\n",
    "Write a code in python to solve this problem"
   ]
  },
  {
   "cell_type": "code",
   "execution_count": 50,
   "metadata": {},
   "outputs": [
    {
     "name": "stdout",
     "output_type": "stream",
     "text": [
      "0.9932620530009145\n"
     ]
    }
   ],
   "source": [
    "# your answer here\n",
    "# Hint: This is same as saying P(x<15)\n",
    "# You need to pass the value for which you are calculating the exponention\n",
    "exp = expon(10) \n",
    "\n",
    "print(exp.cdf(15))"
   ]
  },
  {
   "cell_type": "markdown",
   "metadata": {},
   "source": [
    "What is the probability that the customer will spend more than 15 minutes"
   ]
  },
  {
   "cell_type": "code",
   "execution_count": 54,
   "metadata": {},
   "outputs": [
    {
     "name": "stdout",
     "output_type": "stream",
     "text": [
      "0.006737946999085476\n"
     ]
    }
   ],
   "source": [
    "# your answer here\n",
    "\n",
    "# Probability of spending more than 15 minutes:\n",
    "\n",
    "P = 1 -(exp.cdf(15)) \n",
    "print(P)\n"
   ]
  },
  {
   "cell_type": "code",
   "execution_count": null,
   "metadata": {},
   "outputs": [],
   "source": []
  }
 ],
 "metadata": {
  "kernelspec": {
   "display_name": "Python 3",
   "language": "python",
   "name": "python3"
  },
  "language_info": {
   "codemirror_mode": {
    "name": "ipython",
    "version": 3
   },
   "file_extension": ".py",
   "mimetype": "text/x-python",
   "name": "python",
   "nbconvert_exporter": "python",
   "pygments_lexer": "ipython3",
   "version": "3.7.4"
  }
 },
 "nbformat": 4,
 "nbformat_minor": 2
}
